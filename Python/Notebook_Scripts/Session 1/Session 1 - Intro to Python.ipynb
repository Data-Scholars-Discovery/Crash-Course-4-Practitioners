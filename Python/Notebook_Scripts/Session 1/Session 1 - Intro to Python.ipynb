{
 "cells": [
  {
   "cell_type": "markdown",
   "metadata": {
    "slideshow": {
     "slide_type": "slide"
    }
   },
   "source": [
    "# Data Science Crash Course\n",
    "\n",
    "## Session 1: Introduction to Python and Jupyter Notebooks\n",
    "\n",
    "Created by: Aaron Scherf (aaron_scherf@berkeley.edu)\n",
    "\n",
    "Instructor Edition"
   ]
  },
  {
   "cell_type": "markdown",
   "metadata": {
    "slideshow": {
     "slide_type": "slide"
    }
   },
   "source": [
    "## Contents\n",
    "- Welcome to Python!\n",
    "- Commands and Objects\n",
    "- The Global Environment\n",
    "- Creating a Dataframe and Indexing\n",
    "- Conclusion and Review"
   ]
  },
  {
   "cell_type": "markdown",
   "metadata": {
    "slideshow": {
     "slide_type": "fragment"
    }
   },
   "source": [
    "ProTip: To adjust the size of slides in the Reveal.JS presentation, just zoom in or out on your browser."
   ]
  },
  {
   "cell_type": "markdown",
   "metadata": {
    "slideshow": {
     "slide_type": "slide"
    }
   },
   "source": [
    "## Today's Packages\n",
    "- `RISE`\n",
    "- `os`\n",
    "- `pandas`"
   ]
  },
  {
   "cell_type": "markdown",
   "metadata": {
    "slideshow": {
     "slide_type": "slide"
    }
   },
   "source": [
    "## Today's Commands:\n",
    "- `conda install`\n",
    "- `pip install`\n",
    "- `print()`\n",
    "- `dir()`\n",
    "- `%reset`\n",
    "- `del`\n",
    "- `import`\n",
    "- `pd.Series()`\n",
    "- `pd.DataFrame()`\n",
    "- `iloc[]`\n",
    "- `loc[]`"
   ]
  },
  {
   "cell_type": "markdown",
   "metadata": {
    "slideshow": {
     "slide_type": "slide"
    }
   },
   "source": [
    "# Welcome to Python!"
   ]
  },
  {
   "cell_type": "markdown",
   "metadata": {
    "slideshow": {
     "slide_type": "slide"
    }
   },
   "source": [
    "## Python and Jupyter Notebooks\n",
    "\n",
    "[Python](https://www.python.org/) is a powerful open-source programming language that is popular among  data scientists and other computer programmers for its versatility and capacity to interface across different platforms. You can code in Python directly from the command line, but for reproducibility and ease-of-use many people prefer using a graphical user interface or notebook system. The most popular is [Jupyter Notebook](https://jupyter.org/), as it combines robust functionality with an appealing clean interface."
   ]
  },
  {
   "cell_type": "markdown",
   "metadata": {
    "slideshow": {
     "slide_type": "subslide"
    }
   },
   "source": [
    "## Using Jupyter Notebooks\n",
    "\n",
    "Python operates like most programming languages (and is quite similar to R or Stata, if you've ever used those), in that it has its own grammar and vocabulary based on commands and functions. \n",
    "\n",
    "Code is usually written in scripts or notebooks (like this one) and executed directly within the script environment. \n",
    "\n",
    "Jupyter Notebook is a bit different from other graphical user interfaces in that it doesn't have a separate console where you can execute code. Everything is done using the cells within the Notebook text. Otherwise it is very similar, offering traditional navigation tabs like \"File\" and \"Edit\" at the top."
   ]
  },
  {
   "cell_type": "markdown",
   "metadata": {
    "slideshow": {
     "slide_type": "subslide"
    }
   },
   "source": [
    "## Intro to Jupyter Guides\n",
    "\n",
    "If you have never used a Jupyter Notebook before, check out [this intro guide from Real Python](https://realpython.com/jupyter-notebook-introduction/) for more info on how it works! Jupyter actually isn't just for Python (the PYT in JuPYTer) but will run R code as well.\n",
    "\n",
    "You can also run Notebooks directly in your browser using the integrated environment in [Jupyter Lab](https://jupyterlab.readthedocs.io/en/stable/index.html)! This is very similar to the Notebook interface but contains everything in a cloud server."
   ]
  },
  {
   "cell_type": "markdown",
   "metadata": {
    "slideshow": {
     "slide_type": "subslide"
    }
   },
   "source": [
    "## Markdown\n",
    "\n",
    "Within Jupyter there are two main types of cells: code and Markdown. Code is, as you may have guessed, Python code and can be executed using **ctrl+enter** for Windows or **cmd+enter** for Macs. **shift+enter** will do the same thing but automatically move onto the next cell. \n",
    "\n",
    "Markdown cells are used for typical text, like this cell, that is not formatted as Python code. You can format the text using simple Markdown syntax, which is a common text-language shared by many programs (like GitHub and RStudio). Some common Markdown formatting options are titles (made by starting a line with a #, ##, or up to six #'s, depending on what \"level\" you want the title) as well as hyperlinks, such as [this link to a Markdown cheatsheet](https://github.com/adam-p/markdown-here/wiki/Markdown-Cheatsheet)."
   ]
  },
  {
   "cell_type": "markdown",
   "metadata": {
    "slideshow": {
     "slide_type": "subslide"
    }
   },
   "source": [
    "## Running Python Code\n",
    "\n",
    "The other main type of cell is a code chunk, which you can execute directly inside of the Jupyter Notebook. Code is written in the special syntax of the Python language, though most structures and commands are intuitive.\n",
    "\n",
    "To execute a command, you can either press the play button to the left of the cell or click on the cell and press **ctrl+enter**."
   ]
  },
  {
   "cell_type": "code",
   "execution_count": 1,
   "metadata": {
    "slideshow": {
     "slide_type": "fragment"
    }
   },
   "outputs": [
    {
     "data": {
      "text/plain": [
       "4"
      ]
     },
     "execution_count": 1,
     "metadata": {},
     "output_type": "execute_result"
    }
   ],
   "source": [
    "2+2"
   ]
  },
  {
   "cell_type": "markdown",
   "metadata": {
    "slideshow": {
     "slide_type": "subslide"
    }
   },
   "source": [
    "## HTML Output Formats\n",
    "\n",
    "One of the amazing things about Jupyter Notebooks is that you can download your scripts directly as an output document or presentation. Jupyter comes pre-loaded with several format options, which you can view by clicking the \"File\" dropdown menu and scrolling over \"Download as\".\n",
    "\n",
    "You'll see a dizzying array of options, though the most important (besides the Notebook .ipynb format) are likely HTML, PDF, and Reveal.js slides. You can try out different formats once you are making your own Python notebooks. This course is available for Python and R in HTML and Reveal.js formats."
   ]
  },
  {
   "cell_type": "markdown",
   "metadata": {
    "slideshow": {
     "slide_type": "subslide"
    }
   },
   "source": [
    "## RISE and Reveal.JS Presentations\n",
    "\n",
    "This notebook is formatted to generate a reveal.js presentation, with executable code inside of the presentation thanks to the `RISE` package. \n",
    "\n",
    "To create similar presentations in your Jupyter Notebooks, you can follow [this handy tutorial by Mike Driscoll at DZone](https://dzone.com/articles/creating-presentations-with-jupyter-notebook). You don't need to do this if you aren't interested in making presentations from your code, but it may help in understanding the materials for this course. \n",
    "\n",
    "If you do want to use reveal.js, the first step is installing the RISE package with our Anaconda installer. The code is a bit complex but it should run as long as you have [Anaconda](https://www.anaconda.com/download/) on your machine.\n",
    "\n",
    "*Note: The code cell is left un-executed to preserve space in the presentation output.*"
   ]
  },
  {
   "cell_type": "code",
   "execution_count": null,
   "metadata": {
    "scrolled": false,
    "slideshow": {
     "slide_type": "fragment"
    }
   },
   "outputs": [],
   "source": [
    "conda install -c conda-forge rise"
   ]
  },
  {
   "cell_type": "markdown",
   "metadata": {
    "slideshow": {
     "slide_type": "subslide"
    }
   },
   "source": [
    "## `pip install` Packages\n",
    "\n",
    "In case you aren't runnning Python through [Anaconda](https://www.anaconda.com/download/) (which is recommended), you can also use the normal `pip install` method with the command below. Installing packages like `RISE` in Python is easy, all you need to do is write the name after the `pip install` function.\n",
    "\n",
    "This is a common method to install packages directly within your Python session. Pip, funnily enough, stands for \"Pip Installs Packages\", making it a recursive acronym. Aren't programmers hilarious?"
   ]
  },
  {
   "cell_type": "code",
   "execution_count": null,
   "metadata": {
    "slideshow": {
     "slide_type": "fragment"
    }
   },
   "outputs": [],
   "source": [
    "pip install RISE"
   ]
  },
  {
   "cell_type": "markdown",
   "metadata": {
    "slideshow": {
     "slide_type": "subslide"
    }
   },
   "source": [
    "## Why We RISE\n",
    "\n",
    "The benefit of the RISE package in combination with Jupyter's in-built presentation functionality is that you can edit and execute code directly in the presentation mode. Think of it like a Powerpoint where you can edit the slides without leaving the presentation view. To try it for yourself, reload your notebook and click the little bar graph button at the top of the notebook, next to the keyboard button (command palette) below the \"Help\" dropdown menu."
   ]
  },
  {
   "cell_type": "markdown",
   "metadata": {
    "slideshow": {
     "slide_type": "slide"
    }
   },
   "source": [
    "# Commands and Objects"
   ]
  },
  {
   "cell_type": "markdown",
   "metadata": {
    "slideshow": {
     "slide_type": "subslide"
    }
   },
   "source": [
    "## Materialist Programs\n",
    "\n",
    "Python is an object-oriented programming language. This just means that much of our work is done by creating temporary objects out of data like numbers, character strings, files, etc. This lets us reference the same data multiple times in a script quickly without having to specify the source. Later, when we import data from a comma-separated value (CSV) file, we only have to import it once and save it as an object, then we can call on the data many times by using the object name."
   ]
  },
  {
   "cell_type": "markdown",
   "metadata": {
    "slideshow": {
     "slide_type": "subslide"
    }
   },
   "source": [
    "## Running Commands and Reproducibility\n",
    "\n",
    "You can make objects (or run any code) by making a code cell and executing it. You can run code directly from the command line, but most programmers prefer to write code in a script (like this iPython Notebook) so that they can run it again or share it with others (the command line by itself doesn't \"save\" your work in a file, though you can see a history of your commands).\n",
    "\n",
    "Let's get used to running commands inside our script, since this is generally best practice for [reproducibility](https://datacarpentry.org/rr-intro/02-toolkit/). Try running each of the following cells."
   ]
  },
  {
   "cell_type": "code",
   "execution_count": 2,
   "metadata": {
    "slideshow": {
     "slide_type": "subslide"
    }
   },
   "outputs": [
    {
     "data": {
      "text/plain": [
       "4"
      ]
     },
     "execution_count": 2,
     "metadata": {},
     "output_type": "execute_result"
    }
   ],
   "source": [
    "2+2"
   ]
  },
  {
   "cell_type": "code",
   "execution_count": 3,
   "metadata": {
    "slideshow": {
     "slide_type": "fragment"
    }
   },
   "outputs": [
    {
     "data": {
      "text/plain": [
       "True"
      ]
     },
     "execution_count": 3,
     "metadata": {},
     "output_type": "execute_result"
    }
   ],
   "source": [
    "2+2==4"
   ]
  },
  {
   "cell_type": "code",
   "execution_count": 4,
   "metadata": {
    "slideshow": {
     "slide_type": "fragment"
    }
   },
   "outputs": [
    {
     "name": "stdout",
     "output_type": "stream",
     "text": [
      "hello_world\n"
     ]
    }
   ],
   "source": [
    "print(\"hello_world\")"
   ]
  },
  {
   "cell_type": "markdown",
   "metadata": {
    "slideshow": {
     "slide_type": "subslide"
    }
   },
   "source": [
    "## Types of Commands\n",
    "\n",
    "As you can see, commands in Python can be:\n",
    "\n",
    "- arithmetic (mathematical)\n",
    "- logical (testing if things are `TRUE` or `FALSE`)\n",
    "- functions like `print()`\n",
    "- a combination of these. \n",
    "\n",
    "Much of learning Python is knowing different functions and how they fit together. Few people have memorized every possible function, so most of us rely extensively on Google and Stack Overflow to look up commands. About 80% of your programming time, at least at the start, will be spent looking up functions or example code and adapting it to your needs. This isn't stealing or cheating (unless you take code and pretend it's yours) so please borrow liberally from other sources (like these guides)!"
   ]
  },
  {
   "cell_type": "markdown",
   "metadata": {
    "slideshow": {
     "slide_type": "subslide"
    }
   },
   "source": [
    "## Storing and Printing Results\n",
    "\n",
    "When you execute a command without saving to an object, Python will print out the result, as you saw above. You can also use the `print()` function to achieve the same output. This output can also be saved to an object and re-used later using the assignment operator `=`. You can also call the output by calling the object itself (without the `print()` function).\n",
    "\n",
    "Let's try an example to show how we can save a command to an object and re-use it."
   ]
  },
  {
   "cell_type": "code",
   "execution_count": 5,
   "metadata": {
    "slideshow": {
     "slide_type": "fragment"
    }
   },
   "outputs": [],
   "source": [
    "four = 2+2"
   ]
  },
  {
   "cell_type": "code",
   "execution_count": 6,
   "metadata": {
    "slideshow": {
     "slide_type": "fragment"
    }
   },
   "outputs": [
    {
     "data": {
      "text/plain": [
       "4"
      ]
     },
     "execution_count": 6,
     "metadata": {},
     "output_type": "execute_result"
    }
   ],
   "source": [
    "four"
   ]
  },
  {
   "cell_type": "markdown",
   "metadata": {
    "slideshow": {
     "slide_type": "subslide"
    }
   },
   "source": [
    "## How Python Treats Objects\n",
    "\n",
    "Notice how the output wasn't printed until you called the object `four` by running it by itself. Python won't automatically print the contents of an object when you make it. Also note that you can then use the object in subsequent code, treating it just like you would the contents `2+2` or, as it evaluates the math, `4`.\n",
    "\n",
    "Note how the `=` was used in the first line. In this case, `four` is just a string of letters until it is assigned to the output of the function `2+2`. By writing out `four` and assigning it with the `=` we are telling R to save the formula `2+2` in a shorthand (actually it's longer but you get the idea) that we named `four`. \n"
   ]
  },
  {
   "cell_type": "code",
   "execution_count": 7,
   "metadata": {
    "slideshow": {
     "slide_type": "fragment"
    }
   },
   "outputs": [
    {
     "data": {
      "text/plain": [
       "2.0"
      ]
     },
     "execution_count": 7,
     "metadata": {},
     "output_type": "execute_result"
    }
   ],
   "source": [
    "four / 2"
   ]
  },
  {
   "cell_type": "markdown",
   "metadata": {
    "slideshow": {
     "slide_type": "subslide"
    }
   },
   "source": [
    "## Not all `=` are Equal\n",
    "\n",
    "Note the difference between the single `=` that is used to assign objects and the `==` that runs a logical test of equivalency. `==` checks to see if the surrounding values are equal, and if so prints the logical value `TRUE`."
   ]
  },
  {
   "cell_type": "code",
   "execution_count": 8,
   "metadata": {
    "slideshow": {
     "slide_type": "fragment"
    }
   },
   "outputs": [
    {
     "data": {
      "text/plain": [
       "True"
      ]
     },
     "execution_count": 8,
     "metadata": {},
     "output_type": "execute_result"
    }
   ],
   "source": [
    "four == 4"
   ]
  },
  {
   "cell_type": "code",
   "execution_count": 9,
   "metadata": {
    "slideshow": {
     "slide_type": "fragment"
    }
   },
   "outputs": [
    {
     "data": {
      "text/plain": [
       "False"
      ]
     },
     "execution_count": 9,
     "metadata": {},
     "output_type": "execute_result"
    }
   ],
   "source": [
    "four == 3"
   ]
  },
  {
   "cell_type": "markdown",
   "metadata": {
    "slideshow": {
     "slide_type": "subslide"
    }
   },
   "source": [
    "## Computers are Dumb\n",
    "\n",
    "By itself, unless you previously assign it as an object, `four` means nothing arithmetically to R. We can see this if you try it with another character string.\n"
   ]
  },
  {
   "cell_type": "code",
   "execution_count": 10,
   "metadata": {
    "slideshow": {
     "slide_type": "fragment"
    }
   },
   "outputs": [
    {
     "ename": "NameError",
     "evalue": "name 'six' is not defined",
     "output_type": "error",
     "traceback": [
      "\u001b[1;31m---------------------------------------------------------------------------\u001b[0m",
      "\u001b[1;31mNameError\u001b[0m                                 Traceback (most recent call last)",
      "\u001b[1;32m<ipython-input-10-c4e1651c1d20>\u001b[0m in \u001b[0;36m<module>\u001b[1;34m\u001b[0m\n\u001b[1;32m----> 1\u001b[1;33m \u001b[0msix\u001b[0m \u001b[1;33m+\u001b[0m \u001b[1;36m4\u001b[0m\u001b[1;33m\u001b[0m\u001b[1;33m\u001b[0m\u001b[0m\n\u001b[0m",
      "\u001b[1;31mNameError\u001b[0m: name 'six' is not defined"
     ]
    }
   ],
   "source": [
    "six + 4"
   ]
  },
  {
   "cell_type": "markdown",
   "metadata": {
    "slideshow": {
     "slide_type": "subslide"
    }
   },
   "source": [
    "## Unless the Operator is Smart\n",
    "\n",
    "See the difference when using a new object we haven't defined? `four / 2` is a recognizable command, since we defined the object `four` as `2+2`. \n",
    "\n",
    "`six`, however, isn't an object, it's just a string of text, so Python gives and error when you try to divide a number by letters.\n",
    "\n",
    "`six` by itself means nothing to Python, unless you assign it as an object."
   ]
  },
  {
   "cell_type": "code",
   "execution_count": 11,
   "metadata": {
    "slideshow": {
     "slide_type": "fragment"
    }
   },
   "outputs": [
    {
     "data": {
      "text/plain": [
       "10.0"
      ]
     },
     "execution_count": 11,
     "metadata": {},
     "output_type": "execute_result"
    }
   ],
   "source": [
    "six = 12/2\n",
    "six+four"
   ]
  },
  {
   "cell_type": "markdown",
   "metadata": {
    "slideshow": {
     "slide_type": "subslide"
    }
   },
   "source": [
    "## Silly Objects\n",
    "\n",
    "Now Python can add the two objects `four` and `six` because you assigned them values. If you assign other values to the same name, it will overwrite the object you made before, so be careful with re-using names."
   ]
  },
  {
   "cell_type": "code",
   "execution_count": 12,
   "metadata": {
    "slideshow": {
     "slide_type": "fragment"
    }
   },
   "outputs": [
    {
     "data": {
      "text/plain": [
       "9.0"
      ]
     },
     "execution_count": 12,
     "metadata": {},
     "output_type": "execute_result"
    }
   ],
   "source": [
    "four = 3\n",
    "six + four"
   ]
  },
  {
   "cell_type": "markdown",
   "metadata": {
    "slideshow": {
     "slide_type": "subslide"
    }
   },
   "source": [
    "## No Judgment from Python\n",
    "\n",
    "Python won't judge you for making silly objects, like `four` being 3, but anyone you share your code with will, so be sure to use sensible names that would be comprehensible to others. This isn't required, necessarily, but it's good coding practice and will help make things easier for you and other programmers. We're all in this together, after all."
   ]
  },
  {
   "cell_type": "markdown",
   "metadata": {
    "slideshow": {
     "slide_type": "slide"
    }
   },
   "source": [
    "# The Current Environment (Namespace)"
   ]
  },
  {
   "cell_type": "markdown",
   "metadata": {
    "slideshow": {
     "slide_type": "subslide"
    }
   },
   "source": [
    "## Programmers Do Care About the Environment\n",
    "\n",
    "Whenever you create an object by assigning values to a name, it will be saved in your **Current Environment** or **Namespace**. Your global environment keeps track of all the objects you've created within the Python session (the **Kernel**). These objects are stored in your computer's temporary memory, so if you quit the Python session (even if you save the script file) the objects won't stay."
   ]
  },
  {
   "cell_type": "markdown",
   "metadata": {
    "slideshow": {
     "slide_type": "subslide"
    }
   },
   "source": [
    "## Displaying Objects with `dir()`\n",
    "\n",
    "Jupyter Notebooks save your objects and their associated names but, unlike other interfaces like RStudio, there isn't a window to view the current objects. Instead, you can print out the names of all the current objects in the namespace using the `dir()` command. This will also print the built-in objects (cleverly named `__builtins__`). To read a bit more about Python namespaces, environments, and scopes (the hierarchy of built-in and user-defined objects) check out this [intro guide from wellsr.com](https://wellsr.com/python/basics/python-namespaces-variable-locations-and-scopes/)."
   ]
  },
  {
   "cell_type": "code",
   "execution_count": 13,
   "metadata": {
    "slideshow": {
     "slide_type": "subslide"
    }
   },
   "outputs": [
    {
     "data": {
      "text/plain": [
       "['In',\n",
       " 'Out',\n",
       " '_',\n",
       " '_1',\n",
       " '_11',\n",
       " '_12',\n",
       " '_2',\n",
       " '_3',\n",
       " '_6',\n",
       " '_7',\n",
       " '_8',\n",
       " '_9',\n",
       " '__',\n",
       " '___',\n",
       " '__builtin__',\n",
       " '__builtins__',\n",
       " '__doc__',\n",
       " '__loader__',\n",
       " '__name__',\n",
       " '__package__',\n",
       " '__spec__',\n",
       " '_dh',\n",
       " '_i',\n",
       " '_i1',\n",
       " '_i10',\n",
       " '_i11',\n",
       " '_i12',\n",
       " '_i13',\n",
       " '_i2',\n",
       " '_i3',\n",
       " '_i4',\n",
       " '_i5',\n",
       " '_i6',\n",
       " '_i7',\n",
       " '_i8',\n",
       " '_i9',\n",
       " '_ih',\n",
       " '_ii',\n",
       " '_iii',\n",
       " '_oh',\n",
       " 'exit',\n",
       " 'four',\n",
       " 'get_ipython',\n",
       " 'quit',\n",
       " 'six']"
      ]
     },
     "execution_count": 13,
     "metadata": {},
     "output_type": "execute_result"
    }
   ],
   "source": [
    "dir()"
   ]
  },
  {
   "cell_type": "markdown",
   "metadata": {
    "slideshow": {
     "slide_type": "subslide"
    }
   },
   "source": [
    "## Clearing the Namespace\n",
    "\n",
    "In case you ever need to clear out the namespace, there are two main options: restarting your kernel from the drop-down menu at the top or using the `%reset` command. \n",
    "\n",
    "It is less common to clear the environment in Python, as it initiates a new Kernel for each workbook so there is less chance of accidentally carrying objects from another session, but it's very useful in Stata and R so we include it here for consistency with the other languages."
   ]
  },
  {
   "cell_type": "code",
   "execution_count": 14,
   "metadata": {
    "slideshow": {
     "slide_type": "fragment"
    }
   },
   "outputs": [
    {
     "name": "stdout",
     "output_type": "stream",
     "text": [
      "Once deleted, variables cannot be recovered. Proceed (y/[n])? y\n"
     ]
    }
   ],
   "source": [
    "%reset"
   ]
  },
  {
   "cell_type": "markdown",
   "metadata": {
    "slideshow": {
     "slide_type": "subslide"
    }
   },
   "source": [
    "After following the dialogue box and deleting the variables, you can check the namespace using the `dir()` command again."
   ]
  },
  {
   "cell_type": "code",
   "execution_count": 15,
   "metadata": {
    "slideshow": {
     "slide_type": "subslide"
    }
   },
   "outputs": [
    {
     "data": {
      "text/plain": [
       "['In',\n",
       " 'Out',\n",
       " '__builtin__',\n",
       " '__builtins__',\n",
       " '__name__',\n",
       " '_dh',\n",
       " '_i',\n",
       " '_i15',\n",
       " '_ih',\n",
       " '_ii',\n",
       " '_iii',\n",
       " '_oh',\n",
       " 'exit',\n",
       " 'get_ipython',\n",
       " 'quit']"
      ]
     },
     "execution_count": 15,
     "metadata": {},
     "output_type": "execute_result"
    }
   ],
   "source": [
    "dir()"
   ]
  },
  {
   "cell_type": "markdown",
   "metadata": {
    "slideshow": {
     "slide_type": "subslide"
    }
   },
   "source": [
    "## Removing Individual Objects\n",
    "\n",
    "If we want to remove specific objects instead of just clearing the entire namespace, we can use the `del` function. Let's try an example, creating a new object, finding it in the directory, then deleting it."
   ]
  },
  {
   "cell_type": "code",
   "execution_count": 16,
   "metadata": {
    "slideshow": {
     "slide_type": "fragment"
    }
   },
   "outputs": [],
   "source": [
    "new_object = \"example\""
   ]
  },
  {
   "cell_type": "code",
   "execution_count": null,
   "metadata": {
    "scrolled": true,
    "slideshow": {
     "slide_type": "fragment"
    }
   },
   "outputs": [],
   "source": [
    "# We left this un-executed in the presentations to preserve space. Feel free to run it in your own Notebook.\n",
    "\n",
    "dir()"
   ]
  },
  {
   "cell_type": "code",
   "execution_count": 17,
   "metadata": {
    "slideshow": {
     "slide_type": "fragment"
    }
   },
   "outputs": [],
   "source": [
    "del new_object"
   ]
  },
  {
   "cell_type": "markdown",
   "metadata": {
    "slideshow": {
     "slide_type": "slide"
    }
   },
   "source": [
    "# Creating a Dataframe and Indexing"
   ]
  },
  {
   "cell_type": "markdown",
   "metadata": {
    "slideshow": {
     "slide_type": "subslide"
    }
   },
   "source": [
    "## Intro to Dataframes\n",
    "\n",
    "Most of your analysis will be on pre-existing data. It's rare to actually build a full data set using R, unless you automate it with a function. However, it's helpful to learn about making dataframes to better understand the structure and how the indexing system works. We'll take a brief detour from our `housing` data to create a new dataframe using the package `pandas`.\n",
    "\n",
    "The primary data structures in `pandas` are implemented as two classes:\n",
    "\n",
    "  * **DataFrames**, which you can imagine as a data table, with rows of observations and columns of variables similar to a spreadsheet.\n",
    "  * **Series**, which holds a set of data. Series can contain any type of data (such as numeric values and strings) but most often they often they contain the same type. \n",
    "  \n",
    "A dataframe contains one or more series and a name for each Series, also referred to as variables."
   ]
  },
  {
   "cell_type": "markdown",
   "metadata": {},
   "source": [
    "## Installing Pandas with `pip install`\n",
    "\n",
    "Before we can use `pandas` we need to install the package. `pandas`, shorthand for \"Python Data Analysis Library\", apparently got its name from the term \"panel data\", an important type of survey data. For a quick background on the package [here is a useful guide from Towards Data Science](https://towardsdatascience.com/a-quick-introduction-to-the-pandas-python-library-f1b678f34673).\n",
    "\n",
    "To install a new, user generated package we can use the `pip install` command. [Here is a guide from the Python Help files on installing packages in case you have trouble](https://docs.python.org/3.7/installing/index.html?highlight=pip%20install)."
   ]
  },
  {
   "cell_type": "code",
   "execution_count": null,
   "metadata": {},
   "outputs": [],
   "source": [
    "pip install pandas"
   ]
  },
  {
   "cell_type": "markdown",
   "metadata": {
    "slideshow": {
     "slide_type": "subslide"
    }
   },
   "source": [
    "## Importing `pandas`\n",
    "\n",
    "Before we can use the `pandas` approach to building and using dataframes, however, we have to import it into our kernel. It is common to import `pandas` by the shorthand `pd` since it is used so often."
   ]
  },
  {
   "cell_type": "code",
   "execution_count": 18,
   "metadata": {
    "slideshow": {
     "slide_type": "fragment"
    }
   },
   "outputs": [],
   "source": [
    "import pandas as pd"
   ]
  },
  {
   "cell_type": "markdown",
   "metadata": {
    "slideshow": {
     "slide_type": "subslide"
    }
   },
   "source": [
    "## Creating Series with Indices\n",
    "\n",
    "Pandas allows you to create a series object directly using indexing notation, which just means you separate values with commas inside of a set of square brackets. We use the `pd.Series()` function to create a series out of a set of values as follows. Notice that the series is printed as output, not saved as an object."
   ]
  },
  {
   "cell_type": "code",
   "execution_count": 19,
   "metadata": {
    "slideshow": {
     "slide_type": "fragment"
    }
   },
   "outputs": [
    {
     "data": {
      "text/plain": [
       "0    San Francisco\n",
       "1    New York City\n",
       "2           Austin\n",
       "dtype: object"
      ]
     },
     "execution_count": 19,
     "metadata": {},
     "output_type": "execute_result"
    }
   ],
   "source": [
    "pd.Series(['San Francisco', 'New York City', 'Austin'])"
   ]
  },
  {
   "cell_type": "markdown",
   "metadata": {
    "slideshow": {
     "slide_type": "subslide"
    }
   },
   "source": [
    "## Using the Dictionary\n",
    "\n",
    "DataFrame objects can be created by mapping a dictionary of strings of column names to their respective Series. \n",
    "\n",
    "If the series don't match in length, missing values are filled with special [NA/NaN](http://pandas.pydata.org/pandas-docs/stable/missing_data.html) values.\n",
    "\n",
    "If you don't know what a dictionary or string are (in Python terms), Real Python has nice, quick tutorial articles on [Data Types](https://realpython.com/python-data-types/) and [Dictionaries](https://realpython.com/python-dicts/)."
   ]
  },
  {
   "cell_type": "markdown",
   "metadata": {
    "slideshow": {
     "slide_type": "subslide"
    }
   },
   "source": [
    "## Making a Dataframe with `pd.DataFrame()`\n",
    "\n",
    "Once you have a series of values saved as an object, you can construct a dataframe using the `pd.DataFrame()` function. We create names for the series within the function using the dictionary notation `:`, contained within curly brackets `{}`."
   ]
  },
  {
   "cell_type": "code",
   "execution_count": 20,
   "metadata": {
    "slideshow": {
     "slide_type": "fragment"
    }
   },
   "outputs": [],
   "source": [
    "city_names = pd.Series(['San Francisco', 'New York City', 'Austin'])\n",
    "population = pd.Series([884363, 8623000, 950715])\n",
    "\n",
    "City_Data = pd.DataFrame({ 'city_names': city_names, 'population': population })"
   ]
  },
  {
   "cell_type": "markdown",
   "metadata": {
    "slideshow": {
     "slide_type": "subslide"
    }
   },
   "source": [
    "## Calling an Entire Dataframe\n",
    "\n",
    "We can also call the entire dataframe using its name, though browsing values like this is rarely useful for larger datasets. Since we only have 3 rows, however, we can see the entire dataframe.\n"
   ]
  },
  {
   "cell_type": "code",
   "execution_count": 21,
   "metadata": {
    "slideshow": {
     "slide_type": "fragment"
    }
   },
   "outputs": [
    {
     "data": {
      "text/html": [
       "<div>\n",
       "<style scoped>\n",
       "    .dataframe tbody tr th:only-of-type {\n",
       "        vertical-align: middle;\n",
       "    }\n",
       "\n",
       "    .dataframe tbody tr th {\n",
       "        vertical-align: top;\n",
       "    }\n",
       "\n",
       "    .dataframe thead th {\n",
       "        text-align: right;\n",
       "    }\n",
       "</style>\n",
       "<table border=\"1\" class=\"dataframe\">\n",
       "  <thead>\n",
       "    <tr style=\"text-align: right;\">\n",
       "      <th></th>\n",
       "      <th>city_names</th>\n",
       "      <th>population</th>\n",
       "    </tr>\n",
       "  </thead>\n",
       "  <tbody>\n",
       "    <tr>\n",
       "      <th>0</th>\n",
       "      <td>San Francisco</td>\n",
       "      <td>884363</td>\n",
       "    </tr>\n",
       "    <tr>\n",
       "      <th>1</th>\n",
       "      <td>New York City</td>\n",
       "      <td>8623000</td>\n",
       "    </tr>\n",
       "    <tr>\n",
       "      <th>2</th>\n",
       "      <td>Austin</td>\n",
       "      <td>950715</td>\n",
       "    </tr>\n",
       "  </tbody>\n",
       "</table>\n",
       "</div>"
      ],
      "text/plain": [
       "      city_names  population\n",
       "0  San Francisco      884363\n",
       "1  New York City     8623000\n",
       "2         Austin      950715"
      ]
     },
     "execution_count": 21,
     "metadata": {},
     "output_type": "execute_result"
    }
   ],
   "source": [
    "City_Data"
   ]
  },
  {
   "cell_type": "markdown",
   "metadata": {
    "slideshow": {
     "slide_type": "subslide"
    }
   },
   "source": [
    "## Indexing Dataframes\n",
    "\n",
    " Can you see how the dataframe is structured from the output above? The numbers to the left of the rows indicate the row position of each value. You can call specific rows, columns, or values from within the dataframe using its index position."
   ]
  },
  {
   "cell_type": "markdown",
   "metadata": {
    "slideshow": {
     "slide_type": "subslide"
    }
   },
   "source": [
    "## Pop, `loc[]` and `iloc[]` It\n",
    "\n",
    "There are two functions in Python to call object contents by position: `iloc[]` and `loc[]`. `iloc[]` calls values by their index number, while `loc[]` uses the labels of rows and columns. The results are the same but it's up to your preference whether you like names or numbers."
   ]
  },
  {
   "cell_type": "markdown",
   "metadata": {
    "slideshow": {
     "slide_type": "subslide"
    }
   },
   "source": [
    "## Index Positions\n",
    "\n",
    "Index positions are defined by [row,column] within square brackets. `:` refers to all values, so if you want to call all rows within the 0th column, for example, you would use [:,0] with the `iloc` function or [:,'column_name'] with the `loc` function."
   ]
  },
  {
   "cell_type": "code",
   "execution_count": 22,
   "metadata": {
    "slideshow": {
     "slide_type": "fragment"
    }
   },
   "outputs": [
    {
     "data": {
      "text/plain": [
       "0    San Francisco\n",
       "1    New York City\n",
       "2           Austin\n",
       "Name: city_names, dtype: object"
      ]
     },
     "execution_count": 22,
     "metadata": {},
     "output_type": "execute_result"
    }
   ],
   "source": [
    "# Call first column with numeric position\n",
    "City_Data.iloc[:,0]"
   ]
  },
  {
   "cell_type": "code",
   "execution_count": 23,
   "metadata": {
    "slideshow": {
     "slide_type": "fragment"
    }
   },
   "outputs": [
    {
     "data": {
      "text/plain": [
       "0    San Francisco\n",
       "1    New York City\n",
       "2           Austin\n",
       "Name: city_names, dtype: object"
      ]
     },
     "execution_count": 23,
     "metadata": {},
     "output_type": "execute_result"
    }
   ],
   "source": [
    "# Call first column with series name\n",
    "City_Data.loc[:,'city_names']"
   ]
  },
  {
   "cell_type": "markdown",
   "metadata": {
    "slideshow": {
     "slide_type": "subslide"
    }
   },
   "source": [
    "You can also call rows by their position value or with the full index."
   ]
  },
  {
   "cell_type": "code",
   "execution_count": 24,
   "metadata": {
    "slideshow": {
     "slide_type": "fragment"
    }
   },
   "outputs": [
    {
     "data": {
      "text/plain": [
       "city_names    San Francisco\n",
       "population           884363\n",
       "Name: 0, dtype: object"
      ]
     },
     "execution_count": 24,
     "metadata": {},
     "output_type": "execute_result"
    }
   ],
   "source": [
    "City_Data.iloc[0]"
   ]
  },
  {
   "cell_type": "code",
   "execution_count": 25,
   "metadata": {
    "slideshow": {
     "slide_type": "fragment"
    }
   },
   "outputs": [
    {
     "data": {
      "text/plain": [
       "city_names    San Francisco\n",
       "population           884363\n",
       "Name: 0, dtype: object"
      ]
     },
     "execution_count": 25,
     "metadata": {},
     "output_type": "execute_result"
    }
   ],
   "source": [
    "City_Data.iloc[0,:]"
   ]
  },
  {
   "cell_type": "markdown",
   "metadata": {
    "slideshow": {
     "slide_type": "subslide"
    }
   },
   "source": [
    "Or call a specific value using both its row and column."
   ]
  },
  {
   "cell_type": "code",
   "execution_count": 26,
   "metadata": {
    "slideshow": {
     "slide_type": "fragment"
    }
   },
   "outputs": [
    {
     "data": {
      "text/plain": [
       "'San Francisco'"
      ]
     },
     "execution_count": 26,
     "metadata": {},
     "output_type": "execute_result"
    }
   ],
   "source": [
    "City_Data.iloc[0,0]"
   ]
  },
  {
   "cell_type": "markdown",
   "metadata": {
    "slideshow": {
     "slide_type": "subslide"
    }
   },
   "source": [
    "Finally, and most conveniently, you can refer to columns by their name inside the square brackets without the `loc` or `iloc` function. This can help identify particular variables (series) in a dataframe for use in analysis. You can also specify the row of the series using another bracket."
   ]
  },
  {
   "cell_type": "code",
   "execution_count": 27,
   "metadata": {
    "slideshow": {
     "slide_type": "fragment"
    }
   },
   "outputs": [
    {
     "data": {
      "text/plain": [
       "0    San Francisco\n",
       "1    New York City\n",
       "2           Austin\n",
       "Name: city_names, dtype: object"
      ]
     },
     "execution_count": 27,
     "metadata": {},
     "output_type": "execute_result"
    }
   ],
   "source": [
    "City_Data['city_names']"
   ]
  },
  {
   "cell_type": "code",
   "execution_count": 28,
   "metadata": {
    "slideshow": {
     "slide_type": "fragment"
    }
   },
   "outputs": [
    {
     "data": {
      "text/plain": [
       "'San Francisco'"
      ]
     },
     "execution_count": 28,
     "metadata": {},
     "output_type": "execute_result"
    }
   ],
   "source": [
    "City_Data['city_names'][0]"
   ]
  },
  {
   "cell_type": "markdown",
   "metadata": {
    "slideshow": {
     "slide_type": "subslide"
    }
   },
   "source": [
    "As you can see, indices in Python start at 0, which is different than R and other langagues which start at 1. Why the difference? You can read the technical explanation in [this Medium article](https://medium.com/@albertkoz/why-does-array-start-with-index-0-65ffc07cbce8). I just think it's because some folks like to be different.\n",
    "\n",
    "For more details on indexing in pandas, [here is another quick and easy online guide](https://brohrer.github.io/dataframe_indexing.html)."
   ]
  },
  {
   "cell_type": "markdown",
   "metadata": {
    "slideshow": {
     "slide_type": "slide"
    }
   },
   "source": [
    "## Conclusion and Review\n",
    "\n"
   ]
  },
  {
   "cell_type": "markdown",
   "metadata": {
    "slideshow": {
     "slide_type": "subslide"
    }
   },
   "source": [
    "This process of clearing the environment, setting the working directory, importing a dataset, and summarizing its variables is often the first part of every data analysis project you will do. Congratulations, you're officially doing data science!"
   ]
  },
  {
   "cell_type": "markdown",
   "metadata": {
    "slideshow": {
     "slide_type": "subslide"
    }
   },
   "source": [
    "To review, here are the functions we learned today:\n",
    "\n",
    "- `conda install`\n",
    "- `pip install`\n",
    "- `print()`\n",
    "- `dir()`\n",
    "- `%reset`\n",
    "- `del`\n",
    "- `import`\n",
    "- `pd.Series()`\n",
    "- `pd.DataFrame()`\n",
    "- `iloc[]`\n",
    "- `loc[]`"
   ]
  },
  {
   "cell_type": "markdown",
   "metadata": {
    "slideshow": {
     "slide_type": "subslide"
    }
   },
   "source": [
    "## Help is Your Best Friend\n",
    "\n",
    "If you don't recognize any of these or what they do please feel free to go back up and review. These are all \"bread and butter\" commands that you will be using quite a lot, so make sure to know what they are. \n",
    "\n",
    "If you want to explore them in even more detail you can also look them up in the **Help** documentation in the drop down menu above. Note that you have different documentation for base Python, pandas, etc. The help-file for each function will give you a description, list of possible arguments and their default values, and some example code. For example, [here is the help file again](https://docs.python.org/3.7/installing/index.html?highlight=pip%20install) for installing packages via `pip install`. It's always good to check the help-file whenever you are using a new function!"
   ]
  },
  {
   "cell_type": "markdown",
   "metadata": {
    "slideshow": {
     "slide_type": "subslide"
    }
   },
   "source": [
    "## Next Time on the **Crash Course**\n",
    "\n",
    "Finally, welcome to the Python community! Our next lesson will focus on importing data and generating summary statistics!"
   ]
  }
 ],
 "metadata": {
  "celltoolbar": "Slideshow",
  "kernelspec": {
   "display_name": "Python 3",
   "language": "python",
   "name": "python3"
  },
  "language_info": {
   "codemirror_mode": {
    "name": "ipython",
    "version": 3
   },
   "file_extension": ".py",
   "mimetype": "text/x-python",
   "name": "python",
   "nbconvert_exporter": "python",
   "pygments_lexer": "ipython3",
   "version": "3.7.1"
  }
 },
 "nbformat": 4,
 "nbformat_minor": 2
}
