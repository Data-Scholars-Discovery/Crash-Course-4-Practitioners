{
 "cells": [
  {
   "cell_type": "markdown",
   "metadata": {},
   "source": [
    "# Python for Policy Analysts\n",
    "\n",
    "## Session 0: Setting Up Python\n",
    "\n",
    "Created by: O Downs (odowns@berkeley.edu)\n",
    "\n",
    "Instructor Edition"
   ]
  },
  {
   "cell_type": "markdown",
   "metadata": {},
   "source": [
    "### Goals: \n",
    "\n",
    "* Getting you started with Python!\n",
    "* Download Anaconda, which will facilitate your Python use\n",
    "* Understand Terminal commands\n",
    "* Learn how to `pip install`\n",
    "* Learn how to start up a Jupyter notebook"
   ]
  },
  {
   "cell_type": "markdown",
   "metadata": {},
   "source": [
    "## Step 0: Understanding Some Core Concepts\n",
    "\n",
    "If you're new to coding, congratulations! You've taken the first step towards being an amazing programmer. \n",
    "\n",
    "If you're new to Python, awesome!\n",
    "\n",
    "Here are some things you need to understand before coding:\n",
    "\n",
    "* Zero-indexing: in computer science, you generally start counting at zero. So for example, the first item in a list is item ZERO, not item one. This can get confusinig and lead to off-by-one errors, but never fear! OFten you can solve those problems by tweaking your code.\n",
    "* Computers aren't smart: although they can do amazing calculations and run programs, computers aren't intelligent the way humans are. When you're coding, be aware that your computer doesn't know what you want it to do until you tell it exactly–it won't assume anything. So be patient, and remember that errors are inevitable! Even the best programmers make lots of errors and spend a lot of time debugging.\n",
    "* Getting help: everyone needs help sometimes. Thankfully, the internet is great for getting help! If you're stuck on a problem, try Googling it. No need to reinvent the wheel–somebody's probably had exactly the same problem as you. But BE MINDFUL of websites like StackOverflow and others: not everyone is always right, so be smart and critical about code you see. And of course, remember that somebody wrote that code! Don't steal code!"
   ]
  },
  {
   "cell_type": "markdown",
   "metadata": {},
   "source": [
    "## Step 1: Anaconda\n",
    "\n",
    "The first step in getting you set up with Python is getting Anaconda. Anaconda can be downloaded [here](https://www.anaconda.com/distribution/) and is the platform you'll use to write code. \n",
    "\n",
    "(heres where i dont really understand things...i dont know what anaconda actually does)\n",
    "\n",
    "So go ahead and download it."
   ]
  },
  {
   "cell_type": "markdown",
   "metadata": {},
   "source": [
    "## Step 2: Understanding Terminal (Mac)\n",
    "\n",
    "(also youll have to put in stuff for pc because i dont know anything about that)\n",
    "\n",
    "It's not neccesary to understand what's happening inside the computer if you're not interested in doing hardcore computer science, but it is important to know some key commands in the Command Line. \n",
    "\n",
    "The Command Line is your interface with the core of the computer. It's comparable to the windows you can open to view and move files on a Mac, but you only use your keyboard. It also has additional functionalities. \n",
    "\n",
    "On Mac, open Terminal. Don't worry if it looks scary–this is your friend!"
   ]
  },
  {
   "cell_type": "markdown",
   "metadata": {},
   "source": [
    "I dont really want to explain all this so im just linking the website i used to learn it. [here](https://www.codecademy.com/learn/learn-the-command-line)"
   ]
  },
  {
   "cell_type": "markdown",
   "metadata": {},
   "source": [
    "## Step 3: `pip install`\n",
    "\n",
    "This is a command you'll use a lot when you're starting out. `pip install` installs libraries for your computer. For example, in the Command Line, type `pip install seaborn` and you'll be able to use the seaborn library!"
   ]
  },
  {
   "cell_type": "markdown",
   "metadata": {},
   "source": [
    "## Step 4: Start Up a Notebook\n",
    "\n",
    "There are two easy ways to set up a notebook. \n",
    "\n",
    "Way 1: Using Anaconda\n",
    "1. Open Anaconda\n",
    "2. Click on the Jupyter Notebook \"Launch\" button. This will open a Terminal window which will open a Jupyter window in your browser. \n",
    "3. Navigate via this GUI to your preferred directory (folder)\n",
    "4. In the top right hand corner, click \"New\" and under \"Python\" click \"Notebook\"\n",
    "5. Write your code!\n",
    "6. You can move this notebook around using the Command Line or with your regular interface\n",
    "\n",
    "Way 2: Using the Command Line\n",
    "1. Open Terminal\n",
    "2. Type `jupyter notebook` and hit Enter\n",
    "3. Navigate via this GUI to your preferred directory (folder)\n",
    "4. In the top right hand corner, click \"New\" and under \"Python\" click \"Notebook\"\n",
    "5. Write your code!\n",
    "6. You can move this notebook around using the Command Line or with your regular interface"
   ]
  },
  {
   "cell_type": "code",
   "execution_count": null,
   "metadata": {},
   "outputs": [],
   "source": []
  }
 ],
 "metadata": {
  "kernelspec": {
   "display_name": "Python 3",
   "language": "python",
   "name": "python3"
  },
  "language_info": {
   "codemirror_mode": {
    "name": "ipython",
    "version": 3
   },
   "file_extension": ".py",
   "mimetype": "text/x-python",
   "name": "python",
   "nbconvert_exporter": "python",
   "pygments_lexer": "ipython3",
   "version": "3.6.8"
  }
 },
 "nbformat": 4,
 "nbformat_minor": 2
}
