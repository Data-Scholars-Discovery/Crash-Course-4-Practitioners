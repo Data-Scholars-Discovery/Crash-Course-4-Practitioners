{
 "cells": [
  {
   "cell_type": "markdown",
   "metadata": {},
   "source": [
    "# Python for Policy Analysts\n",
    "\n",
    "## Session 1: Introduction to Python and Jupyter Notebooks\n",
    "\n",
    "Created by: Aaron Scherf (aaron_scherf@berkeley.edu)\n",
    "\n",
    "Instructor Edition"
   ]
  },
  {
   "cell_type": "markdown",
   "metadata": {},
   "source": [
    "### Today's Packages\n",
    "* **os**\n",
    "* **pandas**\n",
    "\n",
    "### Today's Commands:\n",
    "* `%reset`\n",
    "* `import`\n",
    "* `os.getcwd()`\n",
    "* `os.chdir()`\n",
    "* `os.listdir()`\n",
    "* `pip install`\n",
    "* `pd.read_csv()`\n",
    "* `head()`\n",
    "* `describe()`\n",
    "* `pd.Series()`\n"
   ]
  },
  {
   "cell_type": "markdown",
   "metadata": {},
   "source": [
    "## Entering and Viewing Data:"
   ]
  },
  {
   "cell_type": "markdown",
   "metadata": {},
   "source": [
    "### 1. Clear Current Environment\n",
    "\n",
    "Just in case you ever need to clear all the objects you've created from the **namespace**, which is what Python calls the current session environment.\n",
    "\n",
    "This is less important in Python, since it initiates a new Kernel for each workbook, but it's often useful in Stata and R so we include it here for consistency."
   ]
  },
  {
   "cell_type": "code",
   "execution_count": null,
   "metadata": {},
   "outputs": [],
   "source": [
    "%reset"
   ]
  },
  {
   "cell_type": "markdown",
   "metadata": {},
   "source": [
    "### 2. Check Working Directory Path"
   ]
  },
  {
   "cell_type": "code",
   "execution_count": null,
   "metadata": {},
   "outputs": [],
   "source": [
    "import os\n",
    "\n",
    "os.getcwd()"
   ]
  },
  {
   "cell_type": "markdown",
   "metadata": {},
   "source": [
    "### 3. Change Working Directory"
   ]
  },
  {
   "cell_type": "code",
   "execution_count": null,
   "metadata": {},
   "outputs": [],
   "source": [
    "os.chdir('Your_Root_Working_Directory_Path')"
   ]
  },
  {
   "cell_type": "code",
   "execution_count": null,
   "metadata": {},
   "outputs": [],
   "source": [
    "# Example:\n",
    "os.chdir('C:\\\\Users\\\\User_Name\\\\Desktop\\\\Crash-Course-4-Practitioners')"
   ]
  },
  {
   "cell_type": "markdown",
   "metadata": {},
   "source": [
    "We can also save our directory path as a string."
   ]
  },
  {
   "cell_type": "code",
   "execution_count": null,
   "metadata": {},
   "outputs": [],
   "source": [
    "path = 'C:\\\\Users\\\\User_Name\\\\Desktop\\\\Crash-Course-4-Practitioners'"
   ]
  },
  {
   "cell_type": "code",
   "execution_count": null,
   "metadata": {},
   "outputs": [],
   "source": [
    "os.chdir(path)"
   ]
  },
  {
   "cell_type": "markdown",
   "metadata": {},
   "source": [
    "### 4. List Files in Directory"
   ]
  },
  {
   "cell_type": "code",
   "execution_count": null,
   "metadata": {},
   "outputs": [],
   "source": [
    "os.listdir()"
   ]
  },
  {
   "cell_type": "markdown",
   "metadata": {},
   "source": [
    "Let's make a new object containing the path for our `Data` folder, then inspect what's inside it."
   ]
  },
  {
   "cell_type": "code",
   "execution_count": null,
   "metadata": {},
   "outputs": [],
   "source": [
    "path_data = path + '\\\\Data\\\\'\n",
    "os.listdir(path_data)"
   ]
  },
  {
   "cell_type": "markdown",
   "metadata": {},
   "source": [
    "### 5. Importing a CSV File\n",
    "\n",
    "Our first data is on housing prices in California, from [Cam Nugent's Kaggle Dataset](https://www.kaggle.com/camnugent/california-housing-prices/downloads/california-housing-prices.zip/1).\n",
    "\n",
    "You can either download the data directly from Kaggle and extract it to your working directory or download it as part of the course GitHub Repo.\n",
    "\n",
    "Either way, make sure you have the `housing.csv` file in a folder called `Data` inside your main working directory."
   ]
  },
  {
   "cell_type": "markdown",
   "metadata": {},
   "source": [
    "#### 5a) Installing Pandas\n",
    "\n",
    "First make sure you have the **pandas** module installed and imported."
   ]
  },
  {
   "cell_type": "code",
   "execution_count": null,
   "metadata": {
    "scrolled": true
   },
   "outputs": [],
   "source": [
    "pip install pandas"
   ]
  },
  {
   "cell_type": "code",
   "execution_count": null,
   "metadata": {},
   "outputs": [],
   "source": [
    "import pandas as pd"
   ]
  },
  {
   "cell_type": "markdown",
   "metadata": {},
   "source": [
    "#### 5b) Importing a CSV\n",
    "\n",
    "Then we can create a new object called `housing` by importing a CSV using the *pandas* function `read_csv()`. \n",
    "\n",
    "We'll call our CSV file using our `path_data` object and concatenating (or adding) the file name of `housing.csv`.\n",
    "\n",
    "Then we can look at the first 5 observations in the file using the `head()` function."
   ]
  },
  {
   "cell_type": "code",
   "execution_count": null,
   "metadata": {},
   "outputs": [],
   "source": [
    "housing = pd.read_csv(path_data + 'housing.csv') \n",
    "# Preview the first 5 lines of the loaded data \n",
    "housing.head()"
   ]
  },
  {
   "cell_type": "markdown",
   "metadata": {},
   "source": [
    "### Intermission: Finding New Data\n",
    "\n",
    "There is a lot of data out there but we recommend searching through the following sources:\n",
    "\n",
    "* Kaggle Datasets - https://www.kaggle.com/datasets\n",
    "* re3data Resources by Subject - https://www.re3data.org/browse/by-subject/\n",
    "* World Health Organization Global Health Observatory - https://www.who.int/gho/database/en/\n",
    "* World Bank Open Data - https://data.worldbank.org/\n",
    "* Google Public Data - https://www.google.com/publicdata/directory\n",
    "* Harvard Dataverse - https://dataverse.harvard.edu/"
   ]
  },
  {
   "cell_type": "markdown",
   "metadata": {},
   "source": [
    "### 6. Creating a Dataframe"
   ]
  },
  {
   "cell_type": "markdown",
   "metadata": {},
   "source": [
    "The primary data structures in *pandas* are implemented as two classes:\n",
    "\n",
    "  * **DataFrame**, which you can imagine as a data table, with rows of observations and columns of variables similar to a spreadsheet.\n",
    "  * **Series**, which is a single column. A **DataFrame** contains one or more **Series** and a name for each **Series**."
   ]
  },
  {
   "cell_type": "markdown",
   "metadata": {},
   "source": [
    "Pandas allows you to create a series object directly using indexing notation."
   ]
  },
  {
   "cell_type": "code",
   "execution_count": null,
   "metadata": {},
   "outputs": [],
   "source": [
    "pd.Series(['San Francisco', 'New York City', 'Austin'])"
   ]
  },
  {
   "cell_type": "markdown",
   "metadata": {},
   "source": [
    "**DataFrame** objects can be created by mapping a dictitionary of **strings** of column names to their respective **Series**. \n",
    "\n",
    "If the **Series** don't match in length, missing values are filled with special [NA/NaN](http://pandas.pydata.org/pandas-docs/stable/missing_data.html) values."
   ]
  },
  {
   "cell_type": "code",
   "execution_count": null,
   "metadata": {},
   "outputs": [],
   "source": [
    "city_names = pd.Series(['San Francisco', 'New York City', 'Austin'])\n",
    "population = pd.Series([884363, 8623000, 950715])\n",
    "\n",
    "city_data = pd.DataFrame({ 'City name': city_names, 'Population': population })\n",
    "\n",
    "city_data"
   ]
  },
  {
   "cell_type": "markdown",
   "metadata": {},
   "source": [
    "### 7. Basic Descriptive Statistics"
   ]
  },
  {
   "cell_type": "markdown",
   "metadata": {},
   "source": [
    "Pandas can automatically call summary statistics for all numeric variables using the `describe()` function."
   ]
  },
  {
   "cell_type": "code",
   "execution_count": null,
   "metadata": {},
   "outputs": [],
   "source": [
    "housing.describe()"
   ]
  },
  {
   "cell_type": "markdown",
   "metadata": {},
   "source": [
    "## That's it! Congrats on making it through your first Python crash course session!"
   ]
  },
  {
   "cell_type": "code",
   "execution_count": null,
   "metadata": {},
   "outputs": [],
   "source": []
  }
 ],
 "metadata": {
  "kernelspec": {
   "display_name": "Python 3",
   "language": "python",
   "name": "python3"
  },
  "language_info": {
   "codemirror_mode": {
    "name": "ipython",
    "version": 3
   },
   "file_extension": ".py",
   "mimetype": "text/x-python",
   "name": "python",
   "nbconvert_exporter": "python",
   "pygments_lexer": "ipython3",
   "version": "3.7.3"
  }
 },
 "nbformat": 4,
 "nbformat_minor": 2
}
